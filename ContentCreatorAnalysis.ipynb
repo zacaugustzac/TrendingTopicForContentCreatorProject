{
 "cells": [
  {
   "attachments": {},
   "cell_type": "markdown",
   "metadata": {},
   "source": [
    "# Youtube Content Creator Analysis"
   ]
  },
  {
   "attachments": {},
   "cell_type": "markdown",
   "metadata": {},
   "source": [
    "#### Step 1: Define Why\n",
    "Why am I doing this analysis?\n",
    "- To find good practices from successful Youtube Channels to create a successful Youtube Channel\n",
    "\n",
    "What is the Scope?\n",
    "- Comparing only Data Analysis Channel Youtubers"
   ]
  },
  {
   "attachments": {},
   "cell_type": "markdown",
   "metadata": {},
   "source": [
    "#### Step 2: Get Channel Data"
   ]
  },
  {
   "cell_type": "code",
   "execution_count": 1,
   "metadata": {},
   "outputs": [],
   "source": [
    "# Import required packages\n",
    "from googleapiclient.discovery import build\n",
    "import pandas as pd\n",
    "import seaborn as sns\n",
    "import config\n",
    "import numpy as np\n",
    "import matplotlib.pyplot as plt"
   ]
  },
  {
   "cell_type": "code",
   "execution_count": 2,
   "metadata": {},
   "outputs": [],
   "source": [
    "# Prepare Youtube API\n",
    "api_service_name = \"youtube\"\n",
    "api_version = \"v3\"\n",
    "youtube = build(api_service_name, api_version, developerKey=config.api_key)"
   ]
  },
  {
   "cell_type": "code",
   "execution_count": 3,
   "metadata": {},
   "outputs": [],
   "source": [
    "# Choose current popular channels to analyse (via Channel ID)\n",
    "## Tips to get Channel ID > go to Youtuber Channel Page > View Page Source > Line Wrap > Find channel_id > 2nd item\n",
    "channel_1 = 'UC2UXDak6o7rBm23k3Vv5dww' # Tina Huang\n",
    "channel_2 = 'UC7cs8q-gJRlGwj4A8OmCmXg' # Alex the Analyst\n",
    "channel_3 = 'UCLLw7jmFsvfIVaUFsLs8mlQ' # Luke Barousse\n",
    "channel_4 = 'UCiT9RITQ9PW6BhXK0y2jaeg' # Ken Jee\n",
    "channel_5 = 'UCnz-ZXXER4jOvuED5trXfEA' # techTFQ\n",
    "#  'UCDybamfye5An6p-j1t2YMsg' # Data With Mo\n",
    "channel_ids = [channel_1, channel_2, channel_3, channel_4, channel_5]"
   ]
  },
  {
   "cell_type": "code",
   "execution_count": 4,
   "metadata": {},
   "outputs": [],
   "source": [
    "# Function to get channel statistics\n",
    "def get_channel_stats(youtube, channel_ids):\n",
    "    \n",
    "    # Prepare Youtube request\n",
    "    request = youtube.channels().list(\n",
    "                part ='snippet,contentDetails,statistics',\n",
    "                id = ','.join(channel_ids) # to change list to string seoarated by ','\n",
    "                )\n",
    "    \n",
    "    # Execute Youtube request and store response\n",
    "    response = request.execute()\n",
    "\n",
    "    # Store response in a list\n",
    "    all_data = []\n",
    "    for i in range(len(response['items'])):\n",
    "        data = dict(Channel_name = response['items'][i]['snippet']['title'],\n",
    "                    Subscribers = response['items'][i]['statistics']['subscriberCount'],\n",
    "                    Views = response['items'][i]['statistics']['viewCount'],\n",
    "                    Total_videos = response['items'][i]['statistics']['videoCount'],\n",
    "                    playlist_id = response['items'][i]['contentDetails']['relatedPlaylists']['uploads']\n",
    "                )\n",
    "        \n",
    "        all_data.append(data)\n",
    "\n",
    "    return all_data"
   ]
  },
  {
   "cell_type": "code",
   "execution_count": 5,
   "metadata": {},
   "outputs": [],
   "source": [
    "# Run Function and store raw data\n",
    "channel_statistics = get_channel_stats(youtube, channel_ids)"
   ]
  },
  {
   "attachments": {},
   "cell_type": "markdown",
   "metadata": {},
   "source": [
    "#### Step 3: Clean Channel Data"
   ]
  },
  {
   "cell_type": "code",
   "execution_count": 6,
   "metadata": {},
   "outputs": [],
   "source": [
    "# Convert data to dataframe\n",
    "channel_data = pd.DataFrame(channel_statistics)"
   ]
  },
  {
   "cell_type": "code",
   "execution_count": 7,
   "metadata": {},
   "outputs": [
    {
     "data": {
      "text/html": [
       "<div>\n",
       "<style scoped>\n",
       "    .dataframe tbody tr th:only-of-type {\n",
       "        vertical-align: middle;\n",
       "    }\n",
       "\n",
       "    .dataframe tbody tr th {\n",
       "        vertical-align: top;\n",
       "    }\n",
       "\n",
       "    .dataframe thead th {\n",
       "        text-align: right;\n",
       "    }\n",
       "</style>\n",
       "<table border=\"1\" class=\"dataframe\">\n",
       "  <thead>\n",
       "    <tr style=\"text-align: right;\">\n",
       "      <th></th>\n",
       "      <th>Channel_name</th>\n",
       "      <th>Subscribers</th>\n",
       "      <th>Views</th>\n",
       "      <th>Total_videos</th>\n",
       "      <th>playlist_id</th>\n",
       "    </tr>\n",
       "  </thead>\n",
       "  <tbody>\n",
       "    <tr>\n",
       "      <th>0</th>\n",
       "      <td>Ken Jee</td>\n",
       "      <td>246000</td>\n",
       "      <td>8242494</td>\n",
       "      <td>277</td>\n",
       "      <td>UUiT9RITQ9PW6BhXK0y2jaeg</td>\n",
       "    </tr>\n",
       "    <tr>\n",
       "      <th>1</th>\n",
       "      <td>techTFQ</td>\n",
       "      <td>215000</td>\n",
       "      <td>10735829</td>\n",
       "      <td>89</td>\n",
       "      <td>UUnz-ZXXER4jOvuED5trXfEA</td>\n",
       "    </tr>\n",
       "    <tr>\n",
       "      <th>2</th>\n",
       "      <td>Luke Barousse</td>\n",
       "      <td>360000</td>\n",
       "      <td>16624062</td>\n",
       "      <td>136</td>\n",
       "      <td>UULLw7jmFsvfIVaUFsLs8mlQ</td>\n",
       "    </tr>\n",
       "    <tr>\n",
       "      <th>3</th>\n",
       "      <td>Tina Huang</td>\n",
       "      <td>554000</td>\n",
       "      <td>24240319</td>\n",
       "      <td>127</td>\n",
       "      <td>UU2UXDak6o7rBm23k3Vv5dww</td>\n",
       "    </tr>\n",
       "    <tr>\n",
       "      <th>4</th>\n",
       "      <td>Alex The Analyst</td>\n",
       "      <td>520000</td>\n",
       "      <td>20912398</td>\n",
       "      <td>222</td>\n",
       "      <td>UU7cs8q-gJRlGwj4A8OmCmXg</td>\n",
       "    </tr>\n",
       "  </tbody>\n",
       "</table>\n",
       "</div>"
      ],
      "text/plain": [
       "       Channel_name Subscribers     Views Total_videos  \\\n",
       "0           Ken Jee      246000   8242494          277   \n",
       "1           techTFQ      215000  10735829           89   \n",
       "2     Luke Barousse      360000  16624062          136   \n",
       "3        Tina Huang      554000  24240319          127   \n",
       "4  Alex The Analyst      520000  20912398          222   \n",
       "\n",
       "                playlist_id  \n",
       "0  UUiT9RITQ9PW6BhXK0y2jaeg  \n",
       "1  UUnz-ZXXER4jOvuED5trXfEA  \n",
       "2  UULLw7jmFsvfIVaUFsLs8mlQ  \n",
       "3  UU2UXDak6o7rBm23k3Vv5dww  \n",
       "4  UU7cs8q-gJRlGwj4A8OmCmXg  "
      ]
     },
     "execution_count": 7,
     "metadata": {},
     "output_type": "execute_result"
    }
   ],
   "source": [
    "# Preview data\n",
    "channel_data"
   ]
  },
  {
   "cell_type": "code",
   "execution_count": 8,
   "metadata": {},
   "outputs": [
    {
     "data": {
      "text/plain": [
       "Channel_name    object\n",
       "Subscribers     object\n",
       "Views           object\n",
       "Total_videos    object\n",
       "playlist_id     object\n",
       "dtype: object"
      ]
     },
     "execution_count": 8,
     "metadata": {},
     "output_type": "execute_result"
    }
   ],
   "source": [
    "# Check Data Types before conversion\n",
    "channel_data.dtypes"
   ]
  },
  {
   "cell_type": "code",
   "execution_count": 9,
   "metadata": {},
   "outputs": [],
   "source": [
    "# Convert Data Types (to numeric)\n",
    "channel_data['Subscribers'] = pd.to_numeric(channel_data['Subscribers'])\n",
    "channel_data['Views'] = pd.to_numeric(channel_data['Views'])\n",
    "channel_data['Total_videos'] = pd.to_numeric(channel_data['Total_videos'])\n"
   ]
  },
  {
   "cell_type": "code",
   "execution_count": 10,
   "metadata": {},
   "outputs": [
    {
     "data": {
      "text/plain": [
       "Channel_name    object\n",
       "Subscribers      int64\n",
       "Views            int64\n",
       "Total_videos     int64\n",
       "playlist_id     object\n",
       "dtype: object"
      ]
     },
     "execution_count": 10,
     "metadata": {},
     "output_type": "execute_result"
    }
   ],
   "source": [
    "# Check Data Types after conversion\n",
    "channel_data.dtypes"
   ]
  },
  {
   "cell_type": "code",
   "execution_count": 11,
   "metadata": {},
   "outputs": [],
   "source": [
    "# Export for PowerBI\n",
    "channel_data.to_csv('ChannelData.csv')"
   ]
  },
  {
   "attachments": {},
   "cell_type": "markdown",
   "metadata": {},
   "source": [
    "#### Step 4: Understanding Channel Data"
   ]
  },
  {
   "cell_type": "code",
   "execution_count": 12,
   "metadata": {},
   "outputs": [
    {
     "data": {
      "image/png": "[encoded data removed]",
      "text/plain": [
       "<Figure size 700x300 with 1 Axes>"
      ]
     },
     "metadata": {},
     "output_type": "display_data"
    }
   ],
   "source": [
    "# Simple plot to understand data (Compare Youtubers via Views)\n",
    "\n",
    "# sort data via views\n",
    "channel_data_sort_by_views = channel_data.sort_values(by='Views', ascending=False) #sort df by views\n",
    "\n",
    "# Function for Y axis formatting\n",
    "def format_number(data_value, indx):\n",
    "    if data_value >= 1_000_000:\n",
    "        formatter = '{:1.1f}M'.format(data_value*0.000_001)\n",
    "    elif data_value == 0:\n",
    "        formatter = '0'\n",
    "    else:\n",
    "        formatter = '{:1.0f}K'.format(data_value*0.001)\n",
    "    return formatter\n",
    "\n",
    "# Chart settings\n",
    "fig, ax = plt.subplots(figsize=(7,3))\n",
    "plt.xticks(np.arange(0, max(channel_data.Views), 500000))\n",
    "ax.yaxis.set_major_formatter(format_number)\n",
    "\n",
    "chart = sns.barplot(x='Channel_name',y='Views',data=channel_data_sort_by_views)\n",
    "chart.set_title('Youtubers by Views', fontdict ={'size': 'medium'}) # Set chart title and font size\n",
    "\n",
    "plt.show()"
   ]
  },
  {
   "attachments": {},
   "cell_type": "markdown",
   "metadata": {},
   "source": [
    "Observation: Tina Huang Channel has highest number of views"
   ]
  },
  {
   "cell_type": "code",
   "execution_count": 13,
   "metadata": {},
   "outputs": [
    {
     "data": {
      "image/png": "[encoded data removed]",
      "text/plain": [
       "<Figure size 700x300 with 1 Axes>"
      ]
     },
     "metadata": {},
     "output_type": "display_data"
    }
   ],
   "source": [
    "# Plot to understand data (Sort by subscribers)\n",
    "\n",
    "# sort data via Subscribers\n",
    "channel_data_sort_by_subscribers = channel_data.sort_values(by='Subscribers', ascending=False) #sort df by subscribers\n",
    "\n",
    "# Function for Y axis formatting\n",
    "def format_number(data_value, indx):\n",
    "    if data_value >= 1_000_000:\n",
    "        formatter = '{:1.1f}M'.format(data_value*0.000_001)\n",
    "    elif data_value == 0:\n",
    "        formatter = '0'\n",
    "    else:\n",
    "        formatter = '{:1.0f}K'.format(data_value*0.001)\n",
    "    return formatter\n",
    "\n",
    "# Chart settings\n",
    "fig, ax = plt.subplots(figsize=(7,3))\n",
    "plt.xticks(np.arange(0, max(channel_data.Views), 500000))\n",
    "ax.yaxis.set_major_formatter(format_number)\n",
    "\n",
    "chart = sns.barplot(x='Channel_name',y='Subscribers',data=channel_data_sort_by_subscribers)\n",
    "chart.set_title('Youtubers by Subscribers', fontdict ={'size': 'medium'}) # Set chart title and font size\n",
    "\n",
    "plt.show()\n",
    "\n",
    "# sns.set(rc={'figure.figsize':(10,8)})\n",
    "# ax = sns.barplot(x='Channel_name',y='Subscribers',data=channel_data)"
   ]
  },
  {
   "attachments": {},
   "cell_type": "markdown",
   "metadata": {},
   "source": [
    "Observation: Tina Huang has the highest number of Subscribers"
   ]
  },
  {
   "cell_type": "code",
   "execution_count": 14,
   "metadata": {},
   "outputs": [
    {
     "data": {
      "text/plain": [
       "array([[1.        , 0.96879277],\n",
       "       [0.96879277, 1.        ]])"
      ]
     },
     "execution_count": 14,
     "metadata": {},
     "output_type": "execute_result"
    }
   ],
   "source": [
    "# Find correlation between Views and Subscribers\n",
    "var_Views = channel_data['Views']\n",
    "var_Subscribers = channel_data['Subscribers']\n",
    "np.corrcoef(var_Views, var_Subscribers)"
   ]
  },
  {
   "cell_type": "code",
   "execution_count": 15,
   "metadata": {},
   "outputs": [
    {
     "data": {
      "text/html": [
       "<div>\n",
       "<style scoped>\n",
       "    .dataframe tbody tr th:only-of-type {\n",
       "        vertical-align: middle;\n",
       "    }\n",
       "\n",
       "    .dataframe tbody tr th {\n",
       "        vertical-align: top;\n",
       "    }\n",
       "\n",
       "    .dataframe thead th {\n",
       "        text-align: right;\n",
       "    }\n",
       "</style>\n",
       "<table border=\"1\" class=\"dataframe\">\n",
       "  <thead>\n",
       "    <tr style=\"text-align: right;\">\n",
       "      <th></th>\n",
       "      <th>Views</th>\n",
       "      <th>Subscribers</th>\n",
       "      <th>Total_videos</th>\n",
       "    </tr>\n",
       "  </thead>\n",
       "  <tbody>\n",
       "    <tr>\n",
       "      <th>Views</th>\n",
       "      <td>1.000000</td>\n",
       "      <td>0.968793</td>\n",
       "      <td>-0.253417</td>\n",
       "    </tr>\n",
       "    <tr>\n",
       "      <th>Subscribers</th>\n",
       "      <td>0.968793</td>\n",
       "      <td>1.000000</td>\n",
       "      <td>-0.010382</td>\n",
       "    </tr>\n",
       "    <tr>\n",
       "      <th>Total_videos</th>\n",
       "      <td>-0.253417</td>\n",
       "      <td>-0.010382</td>\n",
       "      <td>1.000000</td>\n",
       "    </tr>\n",
       "  </tbody>\n",
       "</table>\n",
       "</div>"
      ],
      "text/plain": [
       "                 Views  Subscribers  Total_videos\n",
       "Views         1.000000     0.968793     -0.253417\n",
       "Subscribers   0.968793     1.000000     -0.010382\n",
       "Total_videos -0.253417    -0.010382      1.000000"
      ]
     },
     "execution_count": 15,
     "metadata": {},
     "output_type": "execute_result"
    }
   ],
   "source": [
    "corr_channel_data = channel_data[['Views','Subscribers','Total_videos']]\n",
    "corr_channel_data.corr()"
   ]
  },
  {
   "attachments": {},
   "cell_type": "markdown",
   "metadata": {},
   "source": [
    "Observation: Views are strongly correlated to Subscribers, Views are not correlated to Total Videos"
   ]
  },
  {
   "cell_type": "code",
   "execution_count": 16,
   "metadata": {},
   "outputs": [
    {
     "data": {
      "image/png": "[encoded data removed]",
      "text/plain": [
       "<Figure size 700x300 with 1 Axes>"
      ]
     },
     "metadata": {},
     "output_type": "display_data"
    }
   ],
   "source": [
    "# Plot to understand data (Sort by Total_videos)\n",
    "\n",
    "# Sort data via Total_videos\n",
    "channel_data_sort_by_total_videos = channel_data.sort_values(by='Total_videos', ascending=False) #sort df by total videos\n",
    "\n",
    "# Function for Y axis formatting\n",
    "def format_number(data_value, indx):\n",
    "    if data_value >= 1_000_000:\n",
    "        formatter = '{:1.1f}M'.format(data_value*0.000_001)\n",
    "    elif data_value == 0:\n",
    "        formatter = '0'\n",
    "    else:\n",
    "        formatter = '{:1.0f}K'.format(data_value*0.001)\n",
    "    return formatter\n",
    "\n",
    "# Chart settings\n",
    "fig, ax = plt.subplots(figsize=(7,3))\n",
    "plt.xticks(np.arange(0, max(channel_data.Views), 500000))\n",
    "ax.yaxis.set_major_formatter(format_number)\n",
    "\n",
    "chart = sns.barplot(x='Channel_name',y='Total_videos',data=channel_data_sort_by_total_videos)\n",
    "chart.set_title('Youtubers by Total Videos', fontdict ={'size': 'medium'}) # Set chart title and font size\n",
    "\n",
    "plt.show()\n",
    "\n",
    "# ax = sns.barplot(x='Channel_name',y='Total_videos',data=channel_data)"
   ]
  },
  {
   "attachments": {},
   "cell_type": "markdown",
   "metadata": {},
   "source": [
    "Observation: Tina Huang has second lowest total videos, but she has highest number of views and subscribers."
   ]
  },
  {
   "attachments": {},
   "cell_type": "markdown",
   "metadata": {},
   "source": [
    "## Step 2: Get Video Data"
   ]
  },
  {
   "cell_type": "code",
   "execution_count": 17,
   "metadata": {},
   "outputs": [
    {
     "data": {
      "text/plain": [
       "'UU2UXDak6o7rBm23k3Vv5dww'"
      ]
     },
     "execution_count": 17,
     "metadata": {},
     "output_type": "execute_result"
    }
   ],
   "source": [
    "# define which channel to get video data \n",
    "## (Temporary to work with 1 playlist, To-Do: to run whole list )\n",
    "Channel_name_to_analyze = 'Tina Huang'\n",
    "playlist_id = channel_data.loc[channel_data['Channel_name']==Channel_name_to_analyze, 'playlist_id'].iloc[0]\n",
    "playlist_id"
   ]
  },
  {
   "cell_type": "code",
   "execution_count": 18,
   "metadata": {},
   "outputs": [],
   "source": [
    "# Define get_video_ids function\n",
    "def get_video_ids(youtube, playlist_id):\n",
    "\n",
    "    # Prepare request from youtube api\n",
    "    request = youtube.playlistItems().list(\n",
    "                part='contentDetails',\n",
    "                playlistId = playlist_id,\n",
    "                maxResults = 50\n",
    "                )\n",
    "    \n",
    "    # Execute request and store as response\n",
    "    response = request.execute()\n",
    "\n",
    "    # Store video ids in list\n",
    "    video_ids = []\n",
    "    for i in range (len(response['items'])):\n",
    "        video_ids.append(response['items'][i]['contentDetails']['videoId'])\n",
    "\n",
    "    #check for next page\n",
    "    # print(\"nextPageToken(first part) = \"+response.get('nextPageToken'))\n",
    "    next_page_token = response.get('nextPageToken')\n",
    "    more_pages = True\n",
    "    while more_pages:\n",
    "        #if no more pages, update more_pages variable to False\n",
    "        if next_page_token is None:\n",
    "            more_pages = False\n",
    "        #if there are more pages, run the request with pageToken and append video_ids\n",
    "        else:\n",
    "            #run new request with page Token\n",
    "            request = youtube.playlistItems().list(\n",
    "                part='contentDetails',\n",
    "                playlistId = playlist_id,\n",
    "                maxResults = 50,\n",
    "                pageToken = next_page_token\n",
    "                )\n",
    "            \n",
    "            #execute new request\n",
    "            response = request.execute()\n",
    "\n",
    "            #loop through new video ids\n",
    "            for i in range (len(response['items'])):\n",
    "                video_ids.append(response['items'][i]['contentDetails']['videoId'])\n",
    "            \n",
    "            #update next_page_token for next round of while loop\n",
    "            # print(\"nextPageToken second part= \"+str(response.get('nextPageToken')))\n",
    "            next_page_token = response.get('nextPageToken')\n",
    "            # print(next_page_token)\n",
    "\n",
    "    return video_ids"
   ]
  },
  {
   "cell_type": "code",
   "execution_count": 19,
   "metadata": {},
   "outputs": [
    {
     "data": {
      "text/plain": [
       "['ZPR1b58Fk_Q',\n",
       " 'IaA-3FdWFm8',\n",
       " 'EPKL7lsbLEk',\n",
       " 'A6t6g_OoJhw',\n",
       " 's1ONmED2u8s',\n",
       " 'nXRNr7hoPK8',\n",
       " '12lV1HWchNQ',\n",
       " 'NzytCGKMs3k',\n",
       " 'pG_BwgjkFTk',\n",
       " 'VznoKyh6AXs',\n",
       " 'fr5l904EF58',\n",
       " 'XLoMFXGTczU',\n",
       " 'w8opECLgYQU',\n",
       " 'I-4xBROt2Zc',\n",
       " 'uzCTHdm0T_Q',\n",
       " 'pwLaS7nPRxo',\n",
       " 'tmXcKiVwJWg',\n",
       " 'wGD_wmBZaE8',\n",
       " 'fixfN8MNvoQ',\n",
       " '6hCS_ddArh4',\n",
       " 'HTvwR8hLu9s',\n",
       " 'UWQTIUSSVj4',\n",
       " 'sS09Q-rKjos',\n",
       " 'A3x0gYW42Ts',\n",
       " 'egBzpILuNhA',\n",
       " 'SQNzij5m_Yg',\n",
       " '8tpha6FIa_k',\n",
       " 'UvqN3bAv0pM',\n",
       " 'O90PZJUljOA',\n",
       " 'jd9lEAqkp9Y',\n",
       " '9rGweuLdook',\n",
       " 'oJDlPIVJZbw',\n",
       " '0QFh1expGNs',\n",
       " 'Dw_ko_L232M',\n",
       " '_xf1TMs0ysk',\n",
       " 'uQmjcGGCPGA',\n",
       " 'dFApiK0kpUA',\n",
       " 'd_RtvjDJGbY',\n",
       " 'QKqjV6L5VRY',\n",
       " 'aBkt_gIUP_c',\n",
       " '64OHAH0NbP8',\n",
       " 'vKsaO5IetS0',\n",
       " 'CL3GWyofdXY',\n",
       " 'SrJzxalevjY',\n",
       " '_WHNz0pcEZw',\n",
       " 'FYCXI0-S3Ug',\n",
       " 'QlFV7LNPBEM',\n",
       " '0nBqRVNSIOg',\n",
       " 'deIUUboTeig',\n",
       " 'tF2h9UaRx7w',\n",
       " 'Zk_w_qCnQnU',\n",
       " 'KAVw910mIrI',\n",
       " '8_B2XA9uaGI',\n",
       " 'mtgt1ElOo0U',\n",
       " '_5jlPHUWvpQ',\n",
       " 'wKrxoau0NwE',\n",
       " 'uJE_nOIetgE',\n",
       " 'INymz5VwLmk',\n",
       " 'DoFZtsV25Zw',\n",
       " 'sOZ8MxFw8TQ',\n",
       " 'XPYT8BaTqoA',\n",
       " 'YUQ18uSrwqE',\n",
       " 'qSlGASiJV_4',\n",
       " 'dq_WCdTlPtU',\n",
       " 'yVj2pkeoy54',\n",
       " 'ZI1b8YHR6M4',\n",
       " '5QfjIZb9rJM',\n",
       " 'invk7t5YgcU',\n",
       " 'q6_9mdCkQhE',\n",
       " 'doBZSrFxLeM',\n",
       " 'AID4juOgYpk',\n",
       " 'xZi8cHzBdGE',\n",
       " 'yAwG8DoTmjI',\n",
       " 'AMSTAEbkqzo',\n",
       " 'PYFFskfQM2w',\n",
       " '52ErSpBX0F8',\n",
       " 'SIsjD2bxuoc',\n",
       " 'MHPGeQD8TvI',\n",
       " 'pgHwk5HvHmI',\n",
       " 'GMq8Y9vdJyI',\n",
       " '_EzmbCuoFcU',\n",
       " 'jMVOtD1kwJI',\n",
       " 'cvTpocrPNlo',\n",
       " '7HMCEwu5oY0',\n",
       " '7M-f-PwfUds',\n",
       " '5YaIegbrq5o',\n",
       " 'EHYv-9qSMBg',\n",
       " 'M52Cjh3Dil4',\n",
       " 'C9o0oiAJFLA',\n",
       " 'q10BfdliUdM',\n",
       " '71RVNeseKZw',\n",
       " '1jZ1JnbqYQw',\n",
       " '5wMl5FM2swo',\n",
       " 'Du6kk8IJAu4',\n",
       " 'Axu4tJl8gbM',\n",
       " 'zLaymr5jjMI',\n",
       " 'kHOVWiZKpHM',\n",
       " 'Y6q9TTOOyy0',\n",
       " 'mqc46gdNs4E',\n",
       " 'ndPDXX78wcM',\n",
       " 'C8iL4V-y1Qs',\n",
       " '_77TxNGR21A',\n",
       " 'ZSXjj0HW6Kg',\n",
       " 'vx-x-yXXE9I',\n",
       " 'qH7rq7p8N5s',\n",
       " '7LDKpNLsBpc',\n",
       " 'OFJIRSsoK5A',\n",
       " '27zOn3IJB_M',\n",
       " 'BADhEALNVUA',\n",
       " '1u1GT4sdvdA',\n",
       " 'AOtHIF3N0cQ',\n",
       " 'WDhgOCoPT-g',\n",
       " 'lCi6fWuI8r4',\n",
       " '5ILM65Yi9LA',\n",
       " 'n9OTXvYaP5k',\n",
       " 'eAgv2-XBIac',\n",
       " 'Td-cmLfQ7uU',\n",
       " 'rd1HKwJT6GM',\n",
       " 'kO_LUVkKdJM',\n",
       " '2goqyY5XBeI',\n",
       " 'wQJUI8dSWNQ',\n",
       " 'vaD3ZFFNwhM',\n",
       " 'mueI-I7Suxw',\n",
       " '-zQ-Pf491bQ',\n",
       " 'Rx1i1J4m4MQ',\n",
       " 'JUkSeqe1eYQ',\n",
       " 'KsQU_3n0IYE']"
      ]
     },
     "execution_count": 19,
     "metadata": {},
     "output_type": "execute_result"
    }
   ],
   "source": [
    "# Execute and store get_video_ids function\n",
    "video_ids = get_video_ids(youtube, playlist_id)\n",
    "video_ids"
   ]
  },
  {
   "cell_type": "code",
   "execution_count": 20,
   "metadata": {},
   "outputs": [],
   "source": [
    "# Function to get video details\n",
    "def get_video_details(youtube, video_ids):\n",
    "\n",
    "    all_video_stats=[]\n",
    "\n",
    "    for i in range (0, len(video_ids), 50):\n",
    "        request = youtube.videos().list(\n",
    "                    part='snippet,statistics',\n",
    "                    id=','.join(video_ids[i:i+50]) #note that youtube limitation is max 50 \n",
    "                    )\n",
    "        \n",
    "        response = request.execute()\n",
    "\n",
    "        for video in response['items']:\n",
    "            video_stats=dict(Title = video['snippet']['title'],\n",
    "                             Published_date = video['snippet']['publishedAt'],\n",
    "                             Views = video['statistics']['viewCount'],\n",
    "                             Likes = video['statistics']['likeCount'],\n",
    "                            #  Dislikes = video['statistics']['dislikeCount'], #no more dislikeCount\n",
    "                             Comments = video['statistics']['commentCount']\n",
    "                             )\n",
    "            all_video_stats.append(video_stats)\n",
    "\n",
    "\n",
    "\n",
    "    return all_video_stats"
   ]
  },
  {
   "attachments": {},
   "cell_type": "markdown",
   "metadata": {},
   "source": [
    "## Step 3: Clean Video Data"
   ]
  },
  {
   "cell_type": "code",
   "execution_count": 21,
   "metadata": {},
   "outputs": [],
   "source": [
    "# Execute Function and store data in variable\n",
    "video_details = get_video_details(youtube, video_ids)"
   ]
  },
  {
   "cell_type": "code",
   "execution_count": 22,
   "metadata": {},
   "outputs": [],
   "source": [
    "# Create dataframe\n",
    "video_data = pd.DataFrame(video_details)"
   ]
  },
  {
   "cell_type": "code",
   "execution_count": 23,
   "metadata": {},
   "outputs": [
    {
     "data": {
      "text/html": [
       "<div>\n",
       "<style scoped>\n",
       "    .dataframe tbody tr th:only-of-type {\n",
       "        vertical-align: middle;\n",
       "    }\n",
       "\n",
       "    .dataframe tbody tr th {\n",
       "        vertical-align: top;\n",
       "    }\n",
       "\n",
       "    .dataframe thead th {\n",
       "        text-align: right;\n",
       "    }\n",
       "</style>\n",
       "<table border=\"1\" class=\"dataframe\">\n",
       "  <thead>\n",
       "    <tr style=\"text-align: right;\">\n",
       "      <th></th>\n",
       "      <th>Title</th>\n",
       "      <th>Published_date</th>\n",
       "      <th>Views</th>\n",
       "      <th>Likes</th>\n",
       "      <th>Comments</th>\n",
       "    </tr>\n",
       "  </thead>\n",
       "  <tbody>\n",
       "    <tr>\n",
       "      <th>0</th>\n",
       "      <td>sick of it.</td>\n",
       "      <td>2023-07-07T00:15:01Z</td>\n",
       "      <td>10840</td>\n",
       "      <td>584</td>\n",
       "      <td>34</td>\n",
       "    </tr>\n",
       "    <tr>\n",
       "      <th>1</th>\n",
       "      <td>ChatGPT Prompts to Learn to Code Faster (and n...</td>\n",
       "      <td>2023-06-24T16:35:00Z</td>\n",
       "      <td>24230</td>\n",
       "      <td>1315</td>\n",
       "      <td>76</td>\n",
       "    </tr>\n",
       "    <tr>\n",
       "      <th>2</th>\n",
       "      <td>No insurance in 🇺🇸</td>\n",
       "      <td>2023-06-14T18:39:31Z</td>\n",
       "      <td>13366</td>\n",
       "      <td>335</td>\n",
       "      <td>37</td>\n",
       "    </tr>\n",
       "    <tr>\n",
       "      <th>3</th>\n",
       "      <td>When you need to study but also wanna watch an...</td>\n",
       "      <td>2023-06-04T17:53:08Z</td>\n",
       "      <td>7542</td>\n",
       "      <td>620</td>\n",
       "      <td>11</td>\n",
       "    </tr>\n",
       "    <tr>\n",
       "      <th>4</th>\n",
       "      <td>🐙 Lonely Octopus Career Design Training</td>\n",
       "      <td>2023-05-13T22:06:21Z</td>\n",
       "      <td>17768</td>\n",
       "      <td>814</td>\n",
       "      <td>39</td>\n",
       "    </tr>\n",
       "    <tr>\n",
       "      <th>...</th>\n",
       "      <td>...</td>\n",
       "      <td>...</td>\n",
       "      <td>...</td>\n",
       "      <td>...</td>\n",
       "      <td>...</td>\n",
       "    </tr>\n",
       "    <tr>\n",
       "      <th>122</th>\n",
       "      <td>3rd Year Statistics,  Data Science, Computer S...</td>\n",
       "      <td>2020-08-08T12:08:36Z</td>\n",
       "      <td>6982</td>\n",
       "      <td>192</td>\n",
       "      <td>24</td>\n",
       "    </tr>\n",
       "    <tr>\n",
       "      <th>123</th>\n",
       "      <td>How I Became a Data Scientist | Computer Scien...</td>\n",
       "      <td>2020-08-02T21:44:56Z</td>\n",
       "      <td>15758</td>\n",
       "      <td>448</td>\n",
       "      <td>41</td>\n",
       "    </tr>\n",
       "    <tr>\n",
       "      <th>124</th>\n",
       "      <td>How I got Software Engineering and Data Scienc...</td>\n",
       "      <td>2020-07-28T16:48:31Z</td>\n",
       "      <td>30534</td>\n",
       "      <td>1009</td>\n",
       "      <td>69</td>\n",
       "    </tr>\n",
       "    <tr>\n",
       "      <th>125</th>\n",
       "      <td>How to choose between software engineering and...</td>\n",
       "      <td>2020-07-22T06:00:57Z</td>\n",
       "      <td>383136</td>\n",
       "      <td>17354</td>\n",
       "      <td>667</td>\n",
       "    </tr>\n",
       "    <tr>\n",
       "      <th>126</th>\n",
       "      <td>My UPenn MCIT Experience</td>\n",
       "      <td>2020-07-17T04:53:01Z</td>\n",
       "      <td>22772</td>\n",
       "      <td>361</td>\n",
       "      <td>74</td>\n",
       "    </tr>\n",
       "  </tbody>\n",
       "</table>\n",
       "<p>127 rows × 5 columns</p>\n",
       "</div>"
      ],
      "text/plain": [
       "                                                 Title        Published_date  \\\n",
       "0                                          sick of it.  2023-07-07T00:15:01Z   \n",
       "1    ChatGPT Prompts to Learn to Code Faster (and n...  2023-06-24T16:35:00Z   \n",
       "2                                   No insurance in 🇺🇸  2023-06-14T18:39:31Z   \n",
       "3    When you need to study but also wanna watch an...  2023-06-04T17:53:08Z   \n",
       "4              🐙 Lonely Octopus Career Design Training  2023-05-13T22:06:21Z   \n",
       "..                                                 ...                   ...   \n",
       "122  3rd Year Statistics,  Data Science, Computer S...  2020-08-08T12:08:36Z   \n",
       "123  How I Became a Data Scientist | Computer Scien...  2020-08-02T21:44:56Z   \n",
       "124  How I got Software Engineering and Data Scienc...  2020-07-28T16:48:31Z   \n",
       "125  How to choose between software engineering and...  2020-07-22T06:00:57Z   \n",
       "126                           My UPenn MCIT Experience  2020-07-17T04:53:01Z   \n",
       "\n",
       "      Views  Likes Comments  \n",
       "0     10840    584       34  \n",
       "1     24230   1315       76  \n",
       "2     13366    335       37  \n",
       "3      7542    620       11  \n",
       "4     17768    814       39  \n",
       "..      ...    ...      ...  \n",
       "122    6982    192       24  \n",
       "123   15758    448       41  \n",
       "124   30534   1009       69  \n",
       "125  383136  17354      667  \n",
       "126   22772    361       74  \n",
       "\n",
       "[127 rows x 5 columns]"
      ]
     },
     "execution_count": 23,
     "metadata": {},
     "output_type": "execute_result"
    }
   ],
   "source": [
    "# preview data\n",
    "video_data"
   ]
  },
  {
   "cell_type": "code",
   "execution_count": 24,
   "metadata": {},
   "outputs": [
    {
     "data": {
      "text/plain": [
       "Title             object\n",
       "Published_date    object\n",
       "Views             object\n",
       "Likes             object\n",
       "Comments          object\n",
       "dtype: object"
      ]
     },
     "execution_count": 24,
     "metadata": {},
     "output_type": "execute_result"
    }
   ],
   "source": [
    "# Check dataframe data type\n",
    "video_data.dtypes"
   ]
  },
  {
   "cell_type": "code",
   "execution_count": 25,
   "metadata": {},
   "outputs": [],
   "source": [
    "# modify datetime\n",
    "video_data['Published_date'] = pd.to_datetime(video_data['Published_date']).dt.date\n",
    "video_data['Views'] = pd.to_numeric(video_data['Views'])\n",
    "video_data['Likes'] = pd.to_numeric(video_data['Likes'])\n"
   ]
  },
  {
   "cell_type": "code",
   "execution_count": 26,
   "metadata": {},
   "outputs": [
    {
     "data": {
      "text/plain": [
       "Title             object\n",
       "Published_date    object\n",
       "Views              int64\n",
       "Likes              int64\n",
       "Comments          object\n",
       "dtype: object"
      ]
     },
     "execution_count": 26,
     "metadata": {},
     "output_type": "execute_result"
    }
   ],
   "source": [
    "# Check dataframe data type\n",
    "video_data.dtypes"
   ]
  },
  {
   "attachments": {},
   "cell_type": "markdown",
   "metadata": {},
   "source": [
    "## Step 4: Understanding Video Data"
   ]
  },
  {
   "cell_type": "code",
   "execution_count": 27,
   "metadata": {},
   "outputs": [
    {
     "data": {
      "text/html": [
       "<div>\n",
       "<style scoped>\n",
       "    .dataframe tbody tr th:only-of-type {\n",
       "        vertical-align: middle;\n",
       "    }\n",
       "\n",
       "    .dataframe tbody tr th {\n",
       "        vertical-align: top;\n",
       "    }\n",
       "\n",
       "    .dataframe thead th {\n",
       "        text-align: right;\n",
       "    }\n",
       "</style>\n",
       "<table border=\"1\" class=\"dataframe\">\n",
       "  <thead>\n",
       "    <tr style=\"text-align: right;\">\n",
       "      <th></th>\n",
       "      <th>Title</th>\n",
       "      <th>Published_date</th>\n",
       "      <th>Views</th>\n",
       "      <th>Likes</th>\n",
       "      <th>Comments</th>\n",
       "    </tr>\n",
       "  </thead>\n",
       "  <tbody>\n",
       "    <tr>\n",
       "      <th>77</th>\n",
       "      <td>How I would learn to code (if I could start over)</td>\n",
       "      <td>2021-04-25</td>\n",
       "      <td>3252262</td>\n",
       "      <td>182244</td>\n",
       "      <td>2456</td>\n",
       "    </tr>\n",
       "    <tr>\n",
       "      <th>57</th>\n",
       "      <td>How I consistently study with a full time job ...</td>\n",
       "      <td>2021-10-09</td>\n",
       "      <td>2494110</td>\n",
       "      <td>109629</td>\n",
       "      <td>1970</td>\n",
       "    </tr>\n",
       "    <tr>\n",
       "      <th>80</th>\n",
       "      <td>How to self study technical things</td>\n",
       "      <td>2021-04-04</td>\n",
       "      <td>2261258</td>\n",
       "      <td>80046</td>\n",
       "      <td>1732</td>\n",
       "    </tr>\n",
       "    <tr>\n",
       "      <th>9</th>\n",
       "      <td>How to learn to code FAST using ChatGPT (it's ...</td>\n",
       "      <td>2023-03-02</td>\n",
       "      <td>1756270</td>\n",
       "      <td>62935</td>\n",
       "      <td>1589</td>\n",
       "    </tr>\n",
       "    <tr>\n",
       "      <th>13</th>\n",
       "      <td>How to Completely Transform Your Life in 6 Mon...</td>\n",
       "      <td>2023-01-01</td>\n",
       "      <td>865212</td>\n",
       "      <td>44669</td>\n",
       "      <td>636</td>\n",
       "    </tr>\n",
       "    <tr>\n",
       "      <th>59</th>\n",
       "      <td>Why you should not be a data scientist</td>\n",
       "      <td>2021-09-19</td>\n",
       "      <td>702951</td>\n",
       "      <td>20117</td>\n",
       "      <td>952</td>\n",
       "    </tr>\n",
       "    <tr>\n",
       "      <th>43</th>\n",
       "      <td>Techniques I use to be more disciplined and CO...</td>\n",
       "      <td>2022-02-03</td>\n",
       "      <td>634469</td>\n",
       "      <td>39730</td>\n",
       "      <td>632</td>\n",
       "    </tr>\n",
       "    <tr>\n",
       "      <th>11</th>\n",
       "      <td>Why You Will Pick the Wrong Career</td>\n",
       "      <td>2023-01-28</td>\n",
       "      <td>607896</td>\n",
       "      <td>31701</td>\n",
       "      <td>1092</td>\n",
       "    </tr>\n",
       "    <tr>\n",
       "      <th>60</th>\n",
       "      <td>Why I work so hard (despite having a ‘good’ job)</td>\n",
       "      <td>2021-09-12</td>\n",
       "      <td>501094</td>\n",
       "      <td>22326</td>\n",
       "      <td>862</td>\n",
       "    </tr>\n",
       "    <tr>\n",
       "      <th>94</th>\n",
       "      <td>How to learn data science in 2022 (the minimiz...</td>\n",
       "      <td>2020-12-26</td>\n",
       "      <td>473379</td>\n",
       "      <td>21616</td>\n",
       "      <td>633</td>\n",
       "    </tr>\n",
       "  </tbody>\n",
       "</table>\n",
       "</div>"
      ],
      "text/plain": [
       "                                                Title Published_date    Views  \\\n",
       "77  How I would learn to code (if I could start over)     2021-04-25  3252262   \n",
       "57  How I consistently study with a full time job ...     2021-10-09  2494110   \n",
       "80                 How to self study technical things     2021-04-04  2261258   \n",
       "9   How to learn to code FAST using ChatGPT (it's ...     2023-03-02  1756270   \n",
       "13  How to Completely Transform Your Life in 6 Mon...     2023-01-01   865212   \n",
       "59             Why you should not be a data scientist     2021-09-19   702951   \n",
       "43  Techniques I use to be more disciplined and CO...     2022-02-03   634469   \n",
       "11                 Why You Will Pick the Wrong Career     2023-01-28   607896   \n",
       "60   Why I work so hard (despite having a ‘good’ job)     2021-09-12   501094   \n",
       "94  How to learn data science in 2022 (the minimiz...     2020-12-26   473379   \n",
       "\n",
       "     Likes Comments  \n",
       "77  182244     2456  \n",
       "57  109629     1970  \n",
       "80   80046     1732  \n",
       "9    62935     1589  \n",
       "13   44669      636  \n",
       "59   20117      952  \n",
       "43   39730      632  \n",
       "11   31701     1092  \n",
       "60   22326      862  \n",
       "94   21616      633  "
      ]
     },
     "execution_count": 27,
     "metadata": {},
     "output_type": "execute_result"
    }
   ],
   "source": [
    "#top 10 videos\n",
    "top10_videos = video_data.sort_values(by='Views', ascending = False).head(10)\n",
    "top10_videos"
   ]
  },
  {
   "cell_type": "code",
   "execution_count": 28,
   "metadata": {},
   "outputs": [
    {
     "name": "stderr",
     "output_type": "stream",
     "text": [
      "C:\\Users\\zdrag\\AppData\\Roaming\\Python\\Python39\\site-packages\\IPython\\core\\events.py:89: UserWarning: Glyph 129419 (\\N{BUTTERFLY}) missing from current font.\n",
      "  func(*args, **kwargs)\n",
      "C:\\Users\\zdrag\\AppData\\Roaming\\Python\\Python39\\site-packages\\IPython\\core\\pylabtools.py:152: UserWarning: Glyph 129419 (\\N{BUTTERFLY}) missing from current font.\n",
      "  fig.canvas.print_figure(bytes_io, **kw)\n"
     ]
    },
    {
     "data": {
      "image/png": "[encoded data removed]",
      "text/plain": [
       "<Figure size 640x480 with 1 Axes>"
      ]
     },
     "metadata": {},
     "output_type": "display_data"
    }
   ],
   "source": [
    "ax1 = sns.barplot(x='Views',y='Title',data=top10_videos)"
   ]
  },
  {
   "cell_type": "code",
   "execution_count": 29,
   "metadata": {},
   "outputs": [
    {
     "data": {
      "text/html": [
       "<div>\n",
       "<style scoped>\n",
       "    .dataframe tbody tr th:only-of-type {\n",
       "        vertical-align: middle;\n",
       "    }\n",
       "\n",
       "    .dataframe tbody tr th {\n",
       "        vertical-align: top;\n",
       "    }\n",
       "\n",
       "    .dataframe thead th {\n",
       "        text-align: right;\n",
       "    }\n",
       "</style>\n",
       "<table border=\"1\" class=\"dataframe\">\n",
       "  <thead>\n",
       "    <tr style=\"text-align: right;\">\n",
       "      <th></th>\n",
       "      <th>Title</th>\n",
       "      <th>Published_date</th>\n",
       "      <th>Views</th>\n",
       "      <th>Likes</th>\n",
       "      <th>Comments</th>\n",
       "    </tr>\n",
       "  </thead>\n",
       "  <tbody>\n",
       "    <tr>\n",
       "      <th>0</th>\n",
       "      <td>sick of it.</td>\n",
       "      <td>2023-07-07</td>\n",
       "      <td>10840</td>\n",
       "      <td>584</td>\n",
       "      <td>34</td>\n",
       "    </tr>\n",
       "    <tr>\n",
       "      <th>1</th>\n",
       "      <td>ChatGPT Prompts to Learn to Code Faster (and n...</td>\n",
       "      <td>2023-06-24</td>\n",
       "      <td>24230</td>\n",
       "      <td>1315</td>\n",
       "      <td>76</td>\n",
       "    </tr>\n",
       "    <tr>\n",
       "      <th>2</th>\n",
       "      <td>No insurance in 🇺🇸</td>\n",
       "      <td>2023-06-14</td>\n",
       "      <td>13366</td>\n",
       "      <td>335</td>\n",
       "      <td>37</td>\n",
       "    </tr>\n",
       "    <tr>\n",
       "      <th>3</th>\n",
       "      <td>When you need to study but also wanna watch an...</td>\n",
       "      <td>2023-06-04</td>\n",
       "      <td>7542</td>\n",
       "      <td>620</td>\n",
       "      <td>11</td>\n",
       "    </tr>\n",
       "    <tr>\n",
       "      <th>4</th>\n",
       "      <td>🐙 Lonely Octopus Career Design Training</td>\n",
       "      <td>2023-05-13</td>\n",
       "      <td>17768</td>\n",
       "      <td>814</td>\n",
       "      <td>39</td>\n",
       "    </tr>\n",
       "    <tr>\n",
       "      <th>...</th>\n",
       "      <td>...</td>\n",
       "      <td>...</td>\n",
       "      <td>...</td>\n",
       "      <td>...</td>\n",
       "      <td>...</td>\n",
       "    </tr>\n",
       "    <tr>\n",
       "      <th>122</th>\n",
       "      <td>3rd Year Statistics,  Data Science, Computer S...</td>\n",
       "      <td>2020-08-08</td>\n",
       "      <td>6982</td>\n",
       "      <td>192</td>\n",
       "      <td>24</td>\n",
       "    </tr>\n",
       "    <tr>\n",
       "      <th>123</th>\n",
       "      <td>How I Became a Data Scientist | Computer Scien...</td>\n",
       "      <td>2020-08-02</td>\n",
       "      <td>15758</td>\n",
       "      <td>448</td>\n",
       "      <td>41</td>\n",
       "    </tr>\n",
       "    <tr>\n",
       "      <th>124</th>\n",
       "      <td>How I got Software Engineering and Data Scienc...</td>\n",
       "      <td>2020-07-28</td>\n",
       "      <td>30534</td>\n",
       "      <td>1009</td>\n",
       "      <td>69</td>\n",
       "    </tr>\n",
       "    <tr>\n",
       "      <th>125</th>\n",
       "      <td>How to choose between software engineering and...</td>\n",
       "      <td>2020-07-22</td>\n",
       "      <td>383136</td>\n",
       "      <td>17354</td>\n",
       "      <td>667</td>\n",
       "    </tr>\n",
       "    <tr>\n",
       "      <th>126</th>\n",
       "      <td>My UPenn MCIT Experience</td>\n",
       "      <td>2020-07-17</td>\n",
       "      <td>22772</td>\n",
       "      <td>361</td>\n",
       "      <td>74</td>\n",
       "    </tr>\n",
       "  </tbody>\n",
       "</table>\n",
       "<p>127 rows × 5 columns</p>\n",
       "</div>"
      ],
      "text/plain": [
       "                                                 Title Published_date   Views  \\\n",
       "0                                          sick of it.     2023-07-07   10840   \n",
       "1    ChatGPT Prompts to Learn to Code Faster (and n...     2023-06-24   24230   \n",
       "2                                   No insurance in 🇺🇸     2023-06-14   13366   \n",
       "3    When you need to study but also wanna watch an...     2023-06-04    7542   \n",
       "4              🐙 Lonely Octopus Career Design Training     2023-05-13   17768   \n",
       "..                                                 ...            ...     ...   \n",
       "122  3rd Year Statistics,  Data Science, Computer S...     2020-08-08    6982   \n",
       "123  How I Became a Data Scientist | Computer Scien...     2020-08-02   15758   \n",
       "124  How I got Software Engineering and Data Scienc...     2020-07-28   30534   \n",
       "125  How to choose between software engineering and...     2020-07-22  383136   \n",
       "126                           My UPenn MCIT Experience     2020-07-17   22772   \n",
       "\n",
       "     Likes Comments  \n",
       "0      584       34  \n",
       "1     1315       76  \n",
       "2      335       37  \n",
       "3      620       11  \n",
       "4      814       39  \n",
       "..     ...      ...  \n",
       "122    192       24  \n",
       "123    448       41  \n",
       "124   1009       69  \n",
       "125  17354      667  \n",
       "126    361       74  \n",
       "\n",
       "[127 rows x 5 columns]"
      ]
     },
     "execution_count": 29,
     "metadata": {},
     "output_type": "execute_result"
    }
   ],
   "source": [
    "video_data"
   ]
  },
  {
   "cell_type": "code",
   "execution_count": 30,
   "metadata": {},
   "outputs": [],
   "source": [
    "video_data['Month'] = pd.to_datetime(video_data['Published_date']).dt.strftime('%b')"
   ]
  },
  {
   "cell_type": "code",
   "execution_count": 31,
   "metadata": {},
   "outputs": [
    {
     "data": {
      "text/html": [
       "<div>\n",
       "<style scoped>\n",
       "    .dataframe tbody tr th:only-of-type {\n",
       "        vertical-align: middle;\n",
       "    }\n",
       "\n",
       "    .dataframe tbody tr th {\n",
       "        vertical-align: top;\n",
       "    }\n",
       "\n",
       "    .dataframe thead th {\n",
       "        text-align: right;\n",
       "    }\n",
       "</style>\n",
       "<table border=\"1\" class=\"dataframe\">\n",
       "  <thead>\n",
       "    <tr style=\"text-align: right;\">\n",
       "      <th></th>\n",
       "      <th>Title</th>\n",
       "      <th>Published_date</th>\n",
       "      <th>Views</th>\n",
       "      <th>Likes</th>\n",
       "      <th>Comments</th>\n",
       "      <th>Month</th>\n",
       "    </tr>\n",
       "  </thead>\n",
       "  <tbody>\n",
       "    <tr>\n",
       "      <th>0</th>\n",
       "      <td>sick of it.</td>\n",
       "      <td>2023-07-07</td>\n",
       "      <td>10840</td>\n",
       "      <td>584</td>\n",
       "      <td>34</td>\n",
       "      <td>Jul</td>\n",
       "    </tr>\n",
       "    <tr>\n",
       "      <th>1</th>\n",
       "      <td>ChatGPT Prompts to Learn to Code Faster (and n...</td>\n",
       "      <td>2023-06-24</td>\n",
       "      <td>24230</td>\n",
       "      <td>1315</td>\n",
       "      <td>76</td>\n",
       "      <td>Jun</td>\n",
       "    </tr>\n",
       "    <tr>\n",
       "      <th>2</th>\n",
       "      <td>No insurance in 🇺🇸</td>\n",
       "      <td>2023-06-14</td>\n",
       "      <td>13366</td>\n",
       "      <td>335</td>\n",
       "      <td>37</td>\n",
       "      <td>Jun</td>\n",
       "    </tr>\n",
       "    <tr>\n",
       "      <th>3</th>\n",
       "      <td>When you need to study but also wanna watch an...</td>\n",
       "      <td>2023-06-04</td>\n",
       "      <td>7542</td>\n",
       "      <td>620</td>\n",
       "      <td>11</td>\n",
       "      <td>Jun</td>\n",
       "    </tr>\n",
       "    <tr>\n",
       "      <th>4</th>\n",
       "      <td>🐙 Lonely Octopus Career Design Training</td>\n",
       "      <td>2023-05-13</td>\n",
       "      <td>17768</td>\n",
       "      <td>814</td>\n",
       "      <td>39</td>\n",
       "      <td>May</td>\n",
       "    </tr>\n",
       "    <tr>\n",
       "      <th>...</th>\n",
       "      <td>...</td>\n",
       "      <td>...</td>\n",
       "      <td>...</td>\n",
       "      <td>...</td>\n",
       "      <td>...</td>\n",
       "      <td>...</td>\n",
       "    </tr>\n",
       "    <tr>\n",
       "      <th>122</th>\n",
       "      <td>3rd Year Statistics,  Data Science, Computer S...</td>\n",
       "      <td>2020-08-08</td>\n",
       "      <td>6982</td>\n",
       "      <td>192</td>\n",
       "      <td>24</td>\n",
       "      <td>Aug</td>\n",
       "    </tr>\n",
       "    <tr>\n",
       "      <th>123</th>\n",
       "      <td>How I Became a Data Scientist | Computer Scien...</td>\n",
       "      <td>2020-08-02</td>\n",
       "      <td>15758</td>\n",
       "      <td>448</td>\n",
       "      <td>41</td>\n",
       "      <td>Aug</td>\n",
       "    </tr>\n",
       "    <tr>\n",
       "      <th>124</th>\n",
       "      <td>How I got Software Engineering and Data Scienc...</td>\n",
       "      <td>2020-07-28</td>\n",
       "      <td>30534</td>\n",
       "      <td>1009</td>\n",
       "      <td>69</td>\n",
       "      <td>Jul</td>\n",
       "    </tr>\n",
       "    <tr>\n",
       "      <th>125</th>\n",
       "      <td>How to choose between software engineering and...</td>\n",
       "      <td>2020-07-22</td>\n",
       "      <td>383136</td>\n",
       "      <td>17354</td>\n",
       "      <td>667</td>\n",
       "      <td>Jul</td>\n",
       "    </tr>\n",
       "    <tr>\n",
       "      <th>126</th>\n",
       "      <td>My UPenn MCIT Experience</td>\n",
       "      <td>2020-07-17</td>\n",
       "      <td>22772</td>\n",
       "      <td>361</td>\n",
       "      <td>74</td>\n",
       "      <td>Jul</td>\n",
       "    </tr>\n",
       "  </tbody>\n",
       "</table>\n",
       "<p>127 rows × 6 columns</p>\n",
       "</div>"
      ],
      "text/plain": [
       "                                                 Title Published_date   Views  \\\n",
       "0                                          sick of it.     2023-07-07   10840   \n",
       "1    ChatGPT Prompts to Learn to Code Faster (and n...     2023-06-24   24230   \n",
       "2                                   No insurance in 🇺🇸     2023-06-14   13366   \n",
       "3    When you need to study but also wanna watch an...     2023-06-04    7542   \n",
       "4              🐙 Lonely Octopus Career Design Training     2023-05-13   17768   \n",
       "..                                                 ...            ...     ...   \n",
       "122  3rd Year Statistics,  Data Science, Computer S...     2020-08-08    6982   \n",
       "123  How I Became a Data Scientist | Computer Scien...     2020-08-02   15758   \n",
       "124  How I got Software Engineering and Data Scienc...     2020-07-28   30534   \n",
       "125  How to choose between software engineering and...     2020-07-22  383136   \n",
       "126                           My UPenn MCIT Experience     2020-07-17   22772   \n",
       "\n",
       "     Likes Comments Month  \n",
       "0      584       34   Jul  \n",
       "1     1315       76   Jun  \n",
       "2      335       37   Jun  \n",
       "3      620       11   Jun  \n",
       "4      814       39   May  \n",
       "..     ...      ...   ...  \n",
       "122    192       24   Aug  \n",
       "123    448       41   Aug  \n",
       "124   1009       69   Jul  \n",
       "125  17354      667   Jul  \n",
       "126    361       74   Jul  \n",
       "\n",
       "[127 rows x 6 columns]"
      ]
     },
     "execution_count": 31,
     "metadata": {},
     "output_type": "execute_result"
    }
   ],
   "source": [
    "video_data"
   ]
  },
  {
   "cell_type": "code",
   "execution_count": 32,
   "metadata": {},
   "outputs": [
    {
     "data": {
      "text/html": [
       "<div>\n",
       "<style scoped>\n",
       "    .dataframe tbody tr th:only-of-type {\n",
       "        vertical-align: middle;\n",
       "    }\n",
       "\n",
       "    .dataframe tbody tr th {\n",
       "        vertical-align: top;\n",
       "    }\n",
       "\n",
       "    .dataframe thead th {\n",
       "        text-align: right;\n",
       "    }\n",
       "</style>\n",
       "<table border=\"1\" class=\"dataframe\">\n",
       "  <thead>\n",
       "    <tr style=\"text-align: right;\">\n",
       "      <th></th>\n",
       "      <th>Month</th>\n",
       "      <th>size</th>\n",
       "    </tr>\n",
       "  </thead>\n",
       "  <tbody>\n",
       "    <tr>\n",
       "      <th>0</th>\n",
       "      <td>Apr</td>\n",
       "      <td>10</td>\n",
       "    </tr>\n",
       "    <tr>\n",
       "      <th>1</th>\n",
       "      <td>Aug</td>\n",
       "      <td>10</td>\n",
       "    </tr>\n",
       "    <tr>\n",
       "      <th>2</th>\n",
       "      <td>Dec</td>\n",
       "      <td>11</td>\n",
       "    </tr>\n",
       "    <tr>\n",
       "      <th>3</th>\n",
       "      <td>Feb</td>\n",
       "      <td>7</td>\n",
       "    </tr>\n",
       "    <tr>\n",
       "      <th>4</th>\n",
       "      <td>Jan</td>\n",
       "      <td>10</td>\n",
       "    </tr>\n",
       "    <tr>\n",
       "      <th>5</th>\n",
       "      <td>Jul</td>\n",
       "      <td>11</td>\n",
       "    </tr>\n",
       "    <tr>\n",
       "      <th>6</th>\n",
       "      <td>Jun</td>\n",
       "      <td>11</td>\n",
       "    </tr>\n",
       "    <tr>\n",
       "      <th>7</th>\n",
       "      <td>Mar</td>\n",
       "      <td>13</td>\n",
       "    </tr>\n",
       "    <tr>\n",
       "      <th>8</th>\n",
       "      <td>May</td>\n",
       "      <td>10</td>\n",
       "    </tr>\n",
       "    <tr>\n",
       "      <th>9</th>\n",
       "      <td>Nov</td>\n",
       "      <td>11</td>\n",
       "    </tr>\n",
       "    <tr>\n",
       "      <th>10</th>\n",
       "      <td>Oct</td>\n",
       "      <td>10</td>\n",
       "    </tr>\n",
       "    <tr>\n",
       "      <th>11</th>\n",
       "      <td>Sep</td>\n",
       "      <td>13</td>\n",
       "    </tr>\n",
       "  </tbody>\n",
       "</table>\n",
       "</div>"
      ],
      "text/plain": [
       "   Month  size\n",
       "0    Apr    10\n",
       "1    Aug    10\n",
       "2    Dec    11\n",
       "3    Feb     7\n",
       "4    Jan    10\n",
       "5    Jul    11\n",
       "6    Jun    11\n",
       "7    Mar    13\n",
       "8    May    10\n",
       "9    Nov    11\n",
       "10   Oct    10\n",
       "11   Sep    13"
      ]
     },
     "execution_count": 32,
     "metadata": {},
     "output_type": "execute_result"
    }
   ],
   "source": [
    "videos_per_month = video_data.groupby('Month', as_index=False).size()\n",
    "videos_per_month"
   ]
  },
  {
   "cell_type": "code",
   "execution_count": 33,
   "metadata": {},
   "outputs": [],
   "source": [
    "sort_order = ['Jan', 'Feb', 'Mar', 'Apr', 'May', 'Jun', 'Jul', 'Aug', 'Sep', 'Oct', 'Nov', 'Dec']"
   ]
  },
  {
   "cell_type": "code",
   "execution_count": 34,
   "metadata": {},
   "outputs": [],
   "source": [
    "videos_per_month.index = pd.CategoricalIndex(videos_per_month['Month'], categories=sort_order, ordered=True)"
   ]
  },
  {
   "cell_type": "code",
   "execution_count": 35,
   "metadata": {},
   "outputs": [],
   "source": [
    "videos_per_month = videos_per_month.sort_index()"
   ]
  },
  {
   "cell_type": "code",
   "execution_count": 36,
   "metadata": {},
   "outputs": [
    {
     "data": {
      "image/png": "[encoded data removed]",
      "text/plain": [
       "<Figure size 640x480 with 1 Axes>"
      ]
     },
     "metadata": {},
     "output_type": "display_data"
    }
   ],
   "source": [
    "ax2 = sns.barplot(x='Month',y='size',data=videos_per_month)"
   ]
  },
  {
   "cell_type": "code",
   "execution_count": 38,
   "metadata": {},
   "outputs": [],
   "source": [
    "# create csv\n",
    "# To-do : make visualization in PowerBI/Tableau\n",
    "csv_name = \"Video_Details(\"+Channel_name_to_analyze+\").csv\"\n",
    "video_data.to_csv(csv_name)"
   ]
  }
 ],
 "metadata": {
  "kernelspec": {
   "display_name": "Python 3",
   "language": "python",
   "name": "python3"
  },
  "language_info": {
   "codemirror_mode": {
    "name": "ipython",
    "version": 3
   },
   "file_extension": ".py",
   "mimetype": "text/x-python",
   "name": "python",
   "nbconvert_exporter": "python",
   "pygments_lexer": "ipython3",
   "version": "3.9.6"
  },
  "orig_nbformat": 4,
  "vscode": {
   "interpreter": {
    "hash": "11938c6bc6919ae2720b4d5011047913343b08a43b18698fd82dedb0d4417594"
   }
  }
 },
 "nbformat": 4,
 "nbformat_minor": 2
}
